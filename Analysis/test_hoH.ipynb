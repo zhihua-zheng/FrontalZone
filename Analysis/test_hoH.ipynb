{
 "cells": [
  {
   "cell_type": "code",
   "execution_count": 2,
   "id": "3c2bfba4-78ba-4ca3-95c7-51cfff294a28",
   "metadata": {},
   "outputs": [],
   "source": [
    "import numpy as np\n",
    "import matplotlib.pyplot as plt\n",
    "\n",
    "%matplotlib widget"
   ]
  },
  {
   "cell_type": "code",
   "execution_count": 3,
   "id": "0812c5b5-61ea-4181-a15b-6af048618e81",
   "metadata": {},
   "outputs": [],
   "source": [
    "def get_hoH(a):\n",
    "    Q = np.cbrt((27*a**2 + np.sqrt(729*a**4 + 6912*a**3))/2)\n",
    "    S = np.sqrt(2*a + a**2/4 + (Q-12*a/Q)/3)/2\n",
    "    q = a/8*(a**2+12*a+24)\n",
    "    p = -3/8*a**2 - 3*a\n",
    "    x1 = -a/4 - S + np.sqrt(-4*S**2 - 2*p + q/S)/2\n",
    "    return x1"
   ]
  },
  {
   "cell_type": "code",
   "execution_count": 9,
   "id": "d64b6468-3954-4e9b-987a-462a31cc7973",
   "metadata": {},
   "outputs": [
    {
     "data": {
      "text/plain": [
       "0.9143553321226818"
      ]
     },
     "execution_count": 9,
     "metadata": {},
     "output_type": "execute_result"
    }
   ],
   "source": [
    "Q0     = 0#538\n",
    "B0     = Q0/1026/3991*9.81*2e-4\n",
    "H      = 50\n",
    "M2     = 3e-8\n",
    "dUg    = M2/1e-4*H\n",
    "ustar2 = 0.147/1026\n",
    "beta   = np.maximum(ustar2*np.cos(np.deg2rad(0))/dUg**2, 0) + B0*H/dUg**3\n",
    "alpha  = 14**3*beta**2\n",
    "get_hoH(alpha)"
   ]
  },
  {
   "cell_type": "code",
   "execution_count": 14,
   "id": "9aea933d-0468-48e9-8196-43a894f28635",
   "metadata": {},
   "outputs": [
    {
     "data": {
      "text/plain": [
       "0.816496580927726"
      ]
     },
     "execution_count": 14,
     "metadata": {},
     "output_type": "execute_result"
    }
   ],
   "source": [
    "np.sqrt(2/3)"
   ]
  },
  {
   "cell_type": "code",
   "execution_count": 17,
   "id": "c50f9f59-a4d7-4be5-9034-6d5db1311b88",
   "metadata": {},
   "outputs": [
    {
     "data": {
      "text/plain": [
       "538.2357798165137"
      ]
     },
     "execution_count": 17,
     "metadata": {},
     "output_type": "execute_result"
    }
   ],
   "source": [
    "0.147/1026*18e-8/1e-4*1026*3991/9.81/2e-4"
   ]
  },
  {
   "cell_type": "code",
   "execution_count": 14,
   "id": "8170e32a-4f55-4766-bf19-a8d110d06a33",
   "metadata": {},
   "outputs": [
    {
     "data": {
      "text/plain": [
       "0.44099999999999995"
      ]
     },
     "execution_count": 14,
     "metadata": {},
     "output_type": "execute_result"
    }
   ],
   "source": [
    "0.147*3"
   ]
  },
  {
   "cell_type": "code",
   "execution_count": 21,
   "id": "f6c28f14-22be-49fb-b89f-3cca0cde8ba4",
   "metadata": {},
   "outputs": [
    {
     "data": {
      "text/plain": [
       "0.0"
      ]
     },
     "execution_count": 21,
     "metadata": {},
     "output_type": "execute_result"
    }
   ],
   "source": [
    "B0*H/dUg**3"
   ]
  },
  {
   "cell_type": "code",
   "execution_count": 48,
   "id": "8acf52d4-2536-4d0a-a89f-648c56c9d762",
   "metadata": {},
   "outputs": [],
   "source": [
    "# x = np.concatenate([-np.flip(np.logspace(-5,5)), np.logspace(-5,5)])\n",
    "x = np.logspace(-5,2)\n",
    "y = np.logspace(-5,2)\n",
    "X,Y = np.meshgrid(x,y)\n",
    "alpha = 14**3*(np.maximum(X,0) + Y)**2\n",
    "\n",
    "get_hoH_vfunc = np.vectorize(get_hoH)\n",
    "r = get_hoH_vfunc(alpha)\n",
    "gsp = (X+Y)/2 - Y*r/2"
   ]
  },
  {
   "cell_type": "code",
   "execution_count": 44,
   "id": "af1ef3ea-afb8-4915-916f-b3c302edbe12",
   "metadata": {},
   "outputs": [
    {
     "data": {
      "text/plain": [
       "-97.65624499999831"
      ]
     },
     "execution_count": 44,
     "metadata": {},
     "output_type": "execute_result"
    }
   ],
   "source": [
    "gsp.min()"
   ]
  },
  {
   "cell_type": "code",
   "execution_count": 49,
   "id": "3fb5157a-a477-4c0d-9f16-cddd5b72a8c5",
   "metadata": {},
   "outputs": [
    {
     "data": {
      "image/png": "[encoded data removed]",
      "text/plain": [
       "<Figure size 640x480 with 2 Axes>"
      ]
     },
     "metadata": {},
     "output_type": "display_data"
    }
   ],
   "source": [
    "plt.close()\n",
    "\n",
    "plt.figure()\n",
    "plt.pcolormesh(x, y, gsp, cmap='Spectral')#, vmax=1000, vmin=-1000);\n",
    "plt.colorbar()\n",
    "plt.yscale('log')\n",
    "plt.xscale('log')\n",
    "# plt.xscale('symlog')"
   ]
  },
  {
   "cell_type": "code",
   "execution_count": null,
   "id": "1660ab0c-c401-4900-bb37-7c061ffc0d28",
   "metadata": {},
   "outputs": [],
   "source": []
  }
 ],
 "metadata": {
  "kernelspec": {
   "display_name": "Python 3 (ipykernel)",
   "language": "python",
   "name": "python3"
  },
  "language_info": {
   "codemirror_mode": {
    "name": "ipython",
    "version": 3
   },
   "file_extension": ".py",
   "mimetype": "text/x-python",
   "name": "python",
   "nbconvert_exporter": "python",
   "pygments_lexer": "ipython3",
   "version": "3.12.3"
  }
 },
 "nbformat": 4,
 "nbformat_minor": 5
}
